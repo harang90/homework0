{
 "cells": [
  {
   "cell_type": "code",
   "execution_count": 7,
   "metadata": {
    "colab": {},
    "colab_type": "code",
    "id": "9kIqgkMgEXab"
   },
   "outputs": [],
   "source": [
    "import numpy as np\n",
    "import pandas as pd\n",
    "import matplotlib.pyplot as plt\n",
    "from sklearn import tree, ensemble\n",
    "from sklearn.model_selection import cross_val_score, train_test_split\n",
    "from sklearn.datasets import load_breast_cancer"
   ]
  },
  {
   "cell_type": "markdown",
   "metadata": {},
   "source": [
    "(a) Use the breast cancer data set from Homework 0 to create a training set.\n",
    "Recall that the label is 0 if the patient has breast cancer and 1 otherwise.\n",
    "Compute the base rate of cancer occurrence over the entire data set."
   ]
  },
  {
   "cell_type": "code",
   "execution_count": 8,
   "metadata": {},
   "outputs": [
    {
     "name": "stdout",
     "output_type": "stream",
     "text": [
      "0.37258347978910367\n"
     ]
    }
   ],
   "source": [
    "cancer = load_breast_cancer()\n",
    "q = np.where(cancer.target == 0)[0]\n",
    "baseRate = len(q) / len(cancer.target)\n",
    "print(baseRate)"
   ]
  },
  {
   "cell_type": "markdown",
   "metadata": {},
   "source": [
    "**On random seeds:** Many functions in scikit-learn, including models as well as utilities,\n",
    "use randomization. For ease of grading, we will fix a random seed (we will use 101 throughout)\n",
    "so as to make behavior deterministic. This can generally be done by passing in `random_state=101` to\n",
    "the function; please consult documentation if unsure. Note to peer graders: this is purely for grading\n",
    "convenience. Do not penalize harshly if the random seed has not been set properly."
   ]
  },
  {
   "cell_type": "markdown",
   "metadata": {},
   "source": [
    "(b) The goal is to build a decision tree that, based on the other features in the set,\n",
    "predicts whether or not a patient has cancer.  So this is a classification problem.\n",
    "Using tree.DecisionTreeClassifier and other functions in the scikit-learn library, one can\n",
    "build a decision tree and calculate both its training accuracy when fitted to the entire data set\n",
    "as well as its accuracy using 10-fold cross validation (which gives a better idea of true accuracy).\n",
    "\n",
    "Vary the depth of your decision tree (use max_depth = $1, 2, \\dots, 10$) and plot both training\n",
    "accuracy and cross-validated accuracy (as a function of the depth, on the x-axis). Use 101 as your\n",
    "random seed. Plot both curves on the same plot and use a legend to label them."
   ]
  },
  {
   "cell_type": "code",
   "execution_count": 28,
   "metadata": {},
   "outputs": [
    {
     "data": {
      "text/plain": [
       "<matplotlib.legend.Legend at 0x1b5c5172e80>"
      ]
     },
     "execution_count": 28,
     "metadata": {},
     "output_type": "execute_result"
    },
    {
     "data": {
      "image/png": "[encoded data removed]",
      "text/plain": [
       "<Figure size 432x288 with 1 Axes>"
      ]
     },
     "metadata": {
      "needs_background": "light"
     },
     "output_type": "display_data"
    }
   ],
   "source": [
    "X = cancer.data\n",
    "y = cancer.target\n",
    "\n",
    "max_depth_range = range(1,11)\n",
    "train_accuracy = []\n",
    "cvalid_accuracy = []\n",
    "\n",
    "for i in max_depth_range:\n",
    "    dtc = tree.DecisionTreeClassifier(max_depth=i, random_state=101)\n",
    "    dtc = dtc.fit(X,y)\n",
    "    train_accuracy.append(dtc.score(X, y))\n",
    "    cvalid_accuracy.append(np.mean(cross_val_score(dtc, X, y, cv=10)))\n",
    "    \n",
    "plt.scatter(max_depth_range, train_accuracy)\n",
    "plt.scatter(max_depth_range, cvalid_accuracy)\n",
    "plt.xlabel('maximum depth of the tree')\n",
    "plt.ylabel('accuracy')\n",
    "plt.legend(('training accuracy', 'cross-validated accuracy'))"
   ]
  },
  {
   "cell_type": "markdown",
   "metadata": {},
   "source": [
    "(c) Now try the random forest classifier of the scikit-learn library and use the best\n",
    "depth you get from (b) as max_depth. Vary the number of trees in the forest via the parameter\n",
    "n_estimators and plot its 10-fold cross-validated accuracy (use n_estimators = $1, 2, \\dots, 20$).\n",
    "Again, use 101 as your random seed. Do you see an improvement using random forests versus\n",
    "using a single tree? (Note: use the n_estimators=1 result as the result for a single tree.)"
   ]
  },
  {
   "cell_type": "code",
   "execution_count": 29,
   "metadata": {},
   "outputs": [
    {
     "data": {
      "text/plain": [
       "<matplotlib.collections.PathCollection at 0x1b5c51cd760>"
      ]
     },
     "execution_count": 29,
     "metadata": {},
     "output_type": "execute_result"
    },
    {
     "data": {
      "image/png": "[encoded data removed]",
      "text/plain": [
       "<Figure size 432x288 with 1 Axes>"
      ]
     },
     "metadata": {
      "needs_background": "light"
     },
     "output_type": "display_data"
    }
   ],
   "source": [
    "max_depth_chosen = np.argmax(cvalid_accuracy) + 1\n",
    "max_cvalid_accuracy = np.max(cvalid_accuracy)\n",
    "n_estimators_range = range(1,21)\n",
    "cvalid_accuracy_random = []\n",
    "for i in n_estimators_range:\n",
    "    rfc = ensemble.RandomForestClassifier(n_estimators = i, max_depth = max_depth_chosen, random_state=101)\n",
    "    cvalid_accuracy_random.append(np.mean(cross_val_score(rfc, X, y, cv=10)))\n",
    "plt.hlines(max_cvalid_accuracy, xmin = 1, xmax = 20)\n",
    "plt.scatter(n_estimators_range, cvalid_accuracy_random)"
   ]
  },
  {
   "cell_type": "markdown",
   "metadata": {},
   "source": [
    "(d) Using the method for building a decision tree you used in part (b), build a tree\n",
    "but randomly hold out a $.2$,$.4$,$.6$, and $.8$ fraction of the data set (so you \n",
    "will need to build 4 different trees for each depth value). Use 101 as your random seed for both\n",
    "the train-test split as well as the decision tree.\n",
    "For each fraction held out, plot a curve of the test accuracy (the accuracy on the held-out\n",
    "set) against depth. You should have four curves. Plot them all on the same plot and use\n",
    "a legend to label them."
   ]
  },
  {
   "cell_type": "code",
   "execution_count": null,
   "metadata": {},
   "outputs": [],
   "source": []
  }
 ],
 "metadata": {
  "colab": {
   "collapsed_sections": [],
   "name": "hw1-solution.ipynb",
   "provenance": []
  },
  "kernelspec": {
   "display_name": "Python 3",
   "language": "python",
   "name": "python3"
  },
  "language_info": {
   "codemirror_mode": {
    "name": "ipython",
    "version": 3
   },
   "file_extension": ".py",
   "mimetype": "text/x-python",
   "name": "python",
   "nbconvert_exporter": "python",
   "pygments_lexer": "ipython3",
   "version": "3.8.5"
  },
  "toc-autonumbering": true
 },
 "nbformat": 4,
 "nbformat_minor": 4
}
